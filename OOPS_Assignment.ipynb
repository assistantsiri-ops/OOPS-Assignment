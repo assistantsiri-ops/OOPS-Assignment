{
  "nbformat": 4,
  "nbformat_minor": 0,
  "metadata": {
    "colab": {
      "provenance": []
    },
    "kernelspec": {
      "name": "python3",
      "display_name": "Python 3"
    },
    "language_info": {
      "name": "python"
    }
  },
  "cells": [
    {
      "cell_type": "markdown",
      "source": [
        "#OOPS Assignment(Theory)"
      ],
      "metadata": {
        "id": "1EtkNHsjjFBP"
      }
    },
    {
      "cell_type": "markdown",
      "source": [
        "1.What is Object-Oriented Programming (OOP)?\n",
        "  - Object-Oriented Programming (OOP) is a programming paradigm that organizes software design around objects, which encapsulate data (attributes) and methods (actions) that operate on that data. It uses concepts like classes, inheritance, encapsulation, and polymorphism to build modular, reusable, and maintainable code.\n"
      ],
      "metadata": {
        "id": "OOtrVJI-jGK1"
      }
    },
    {
      "cell_type": "code",
      "execution_count": null,
      "metadata": {
        "colab": {
          "base_uri": "https://localhost:8080/",
          "height": 87
        },
        "id": "ExqiOpxKi_9d",
        "outputId": "b1aeb880-879e-45e0-c7b4-d3ef6094ef4e"
      },
      "outputs": [
        {
          "output_type": "execute_result",
          "data": {
            "text/plain": [
              "'\\nObject-Oriented Programming (OOP) is a programming paradigm that organizes software design around objects, which encapsulate data (attributes) and methods (actions) that operate on that data. It uses concepts like classes, inheritance, encapsulation, and polymorphism to build modular, reusable, and maintainable code. \\n\\n'"
            ],
            "application/vnd.google.colaboratory.intrinsic+json": {
              "type": "string"
            }
          },
          "metadata": {},
          "execution_count": 1
        }
      ],
      "source": [
        "#What is Object-Oriented Programming (OOP)?\n",
        "\"\"\"\n",
        "Object-Oriented Programming (OOP) is a programming paradigm that organizes software design around objects, which encapsulate data (attributes) and methods (actions) that operate on that data. It uses concepts like classes, inheritance, encapsulation, and polymorphism to build modular, reusable, and maintainable code.\n",
        "\n",
        "\"\"\""
      ]
    },
    {
      "cell_type": "markdown",
      "source": [
        "2.What is a class in OOP?\n",
        "  - In Object-Oriented Programming (OOP), a class is a blueprint or template for creating objects, defining their properties (attributes) and behaviors (methods)."
      ],
      "metadata": {
        "id": "SJkwX5kijoG9"
      }
    },
    {
      "cell_type": "code",
      "source": [
        "2.#What is a class in OOP?\n",
        "\"\"\"\n",
        "In Object-Oriented Programming (OOP), a class is a blueprint or template for creating objects, defining their properties (attributes) and behaviors (methods)\n",
        "\"\"\""
      ],
      "metadata": {
        "colab": {
          "base_uri": "https://localhost:8080/",
          "height": 52
        },
        "id": "Knklrlxqjk8S",
        "outputId": "0fd468aa-3ea2-4c52-b26b-75f3e2f4a925"
      },
      "execution_count": null,
      "outputs": [
        {
          "output_type": "execute_result",
          "data": {
            "text/plain": [
              "'\\nIn Object-Oriented Programming (OOP), a class is a blueprint or template for creating objects, defining their properties (attributes) and behaviors (methods)\\n'"
            ],
            "application/vnd.google.colaboratory.intrinsic+json": {
              "type": "string"
            }
          },
          "metadata": {},
          "execution_count": 2
        }
      ]
    },
    {
      "cell_type": "markdown",
      "source": [
        "3.What is an object in OOP?\n",
        "  - In object-oriented programming (OOP), an object is a fundamental unit that encapsulates data (attributes) and behaviors (methods) representing a real-world entity or concept, and is an instance of a class."
      ],
      "metadata": {
        "id": "zk6sAd9Nj6qs"
      }
    },
    {
      "cell_type": "code",
      "source": [
        "#What is an object in OOP?\n",
        "\"\"\"\n",
        "In object-oriented programming (OOP), an object is a fundamental unit that encapsulates data (attributes) and behaviors (methods) representing a real-world entity or concept, and is an instance of a class.\n",
        "\"\"\""
      ],
      "metadata": {
        "colab": {
          "base_uri": "https://localhost:8080/",
          "height": 70
        },
        "id": "LyEJgZpJj5-x",
        "outputId": "3cf518e9-53f7-4e22-8695-5e4f6309fddf"
      },
      "execution_count": null,
      "outputs": [
        {
          "output_type": "execute_result",
          "data": {
            "text/plain": [
              "'\\nIn object-oriented programming (OOP), an object is a fundamental unit that encapsulates data (attributes) and behaviors (methods) representing a real-world entity or concept, and is an instance of a class. \\n'"
            ],
            "application/vnd.google.colaboratory.intrinsic+json": {
              "type": "string"
            }
          },
          "metadata": {},
          "execution_count": 3
        }
      ]
    },
    {
      "cell_type": "markdown",
      "source": [
        "4.What is the difference between abstraction and encapsulation?\n",
        "   - Abstraction hides complex implementation details, focusing on essential features, while encapsulation bundles data and methods into a single unit (like a class) and controls access to them, promoting data security and modularity."
      ],
      "metadata": {
        "id": "KkrPfU52kHR7"
      }
    },
    {
      "cell_type": "code",
      "source": [
        "#What is the difference between abstraction and encapsulation?\n",
        "\"\"\"\n",
        "Abstraction hides complex implementation details, focusing on essential features, while encapsulation bundles data and methods into a single unit (like a class) and controls access to them, promoting data security and modularity.\n",
        "\"\"\""
      ],
      "metadata": {
        "colab": {
          "base_uri": "https://localhost:8080/",
          "height": 70
        },
        "id": "9g8C2ofOkGrP",
        "outputId": "4ec3a84b-5d4f-4577-a005-3623840df117"
      },
      "execution_count": null,
      "outputs": [
        {
          "output_type": "execute_result",
          "data": {
            "text/plain": [
              "'\\nAbstraction hides complex implementation details, focusing on essential features, while encapsulation bundles data and methods into a single unit (like a class) and controls access to them, promoting data security and modularity. \\n'"
            ],
            "application/vnd.google.colaboratory.intrinsic+json": {
              "type": "string"
            }
          },
          "metadata": {},
          "execution_count": 4
        }
      ]
    },
    {
      "cell_type": "markdown",
      "source": [
        "5.What are dunder methods in Python?\n",
        "  - In Python, \"dunder\" methods, also known as \"magic\" or \"special\" methods, are methods with names that start and end with double underscores (e.g., __init__, __str__) that allow classes to interact with Python's built-in functions and operators."
      ],
      "metadata": {
        "id": "3h8ZZyC8kWM7"
      }
    },
    {
      "cell_type": "code",
      "source": [
        "#What are dunder methods in Python?\n",
        "\"\"\"\n",
        "In Python, \"dunder\" methods, also known as \"magic\" or \"special\" methods, are methods with names that start and end with double underscores (e.g., __init__, __str__) that allow classes to interact with Python's built-in functions and operators.\n",
        "\"\"\""
      ],
      "metadata": {
        "colab": {
          "base_uri": "https://localhost:8080/",
          "height": 70
        },
        "id": "9FEM4iRGkVe4",
        "outputId": "9adca303-d9fe-45d7-9d31-17c7c7f1a75e"
      },
      "execution_count": null,
      "outputs": [
        {
          "output_type": "execute_result",
          "data": {
            "text/plain": [
              "'\\nIn Python, \"dunder\" methods, also known as \"magic\" or \"special\" methods, are methods with names that start and end with double underscores (e.g., __init__, __str__) that allow classes to interact with Python\\'s built-in functions and operators. \\n'"
            ],
            "application/vnd.google.colaboratory.intrinsic+json": {
              "type": "string"
            }
          },
          "metadata": {},
          "execution_count": 5
        }
      ]
    },
    {
      "cell_type": "markdown",
      "source": [
        "6.Explain the concept of inheritance in OOP.\n",
        "  - In Object-Oriented Programming (OOP), inheritance is a mechanism where a new class (subclass or child class) inherits properties and behaviors from an existing class (superclass or parent class), promoting code reuse and hierarchical relationships between classes."
      ],
      "metadata": {
        "id": "obBJs9Qekkpa"
      }
    },
    {
      "cell_type": "code",
      "source": [
        "#Explain the concept of inheritance in OOP.\n",
        "\"\"\"\n",
        "In Object-Oriented Programming (OOP), inheritance is a mechanism where a new class (subclass or child class) inherits properties and behaviors from an existing class (superclass or parent class), promoting code reuse and hierarchical relationships between classes.\n",
        "\"\"\""
      ],
      "metadata": {
        "colab": {
          "base_uri": "https://localhost:8080/",
          "height": 70
        },
        "id": "yjyHj62Hkj9m",
        "outputId": "e03e2090-c703-449e-c00b-59f6835a0114"
      },
      "execution_count": null,
      "outputs": [
        {
          "output_type": "execute_result",
          "data": {
            "text/plain": [
              "'\\nIn Object-Oriented Programming (OOP), inheritance is a mechanism where a new class (subclass or child class) inherits properties and behaviors from an existing class (superclass or parent class), promoting code reuse and hierarchical relationships between classes. \\n'"
            ],
            "application/vnd.google.colaboratory.intrinsic+json": {
              "type": "string"
            }
          },
          "metadata": {},
          "execution_count": 6
        }
      ]
    },
    {
      "cell_type": "markdown",
      "source": [
        "7.What is polymorphism in OOP?\n",
        "  - In object-oriented programming (OOP), polymorphism means \"many forms\" and allows objects of different classes to be treated as objects of a common type, enabling them to respond differently to the same method call."
      ],
      "metadata": {
        "id": "LgbSqn8Xk0eE"
      }
    },
    {
      "cell_type": "code",
      "source": [
        "#What is polymorphism in OOP?\n",
        "\"\"\"\n",
        "In object-oriented programming (OOP), polymorphism means \"many forms\" and allows objects of different classes to be treated as objects of a common type, enabling them to respond differently to the same method call.\n",
        "\"\"\""
      ],
      "metadata": {
        "colab": {
          "base_uri": "https://localhost:8080/",
          "height": 70
        },
        "id": "7IOSeQa4kz3V",
        "outputId": "98e07274-14a4-49fd-864e-dd4452be3f48"
      },
      "execution_count": null,
      "outputs": [
        {
          "output_type": "execute_result",
          "data": {
            "text/plain": [
              "'\\nIn object-oriented programming (OOP), polymorphism means \"many forms\" and allows objects of different classes to be treated as objects of a common type, enabling them to respond differently to the same method call. \\n'"
            ],
            "application/vnd.google.colaboratory.intrinsic+json": {
              "type": "string"
            }
          },
          "metadata": {},
          "execution_count": 8
        }
      ]
    },
    {
      "cell_type": "markdown",
      "source": [
        "8.How is encapsulation achieved in Python?\n",
        "  - In Python, encapsulation, which bundles data and methods within a class and restricts access to some members, is achieved through naming conventions: using a single underscore _ for protected members (accessible within the class and its subclasses) and a double underscore __ for private members (accessible only within the class)."
      ],
      "metadata": {
        "id": "sfj1kHgVlEyR"
      }
    },
    {
      "cell_type": "code",
      "source": [
        "#How is encapsulation achieved in Python?\n",
        "\"\"\"\n",
        "In Python, encapsulation, which bundles data and methods within a class and restricts access to some members, is achieved through naming conventions: using a single underscore _ for protected members (accessible within the class and its subclasses) and a double underscore __ for private members (accessible only within the class).\n",
        "\"\"\""
      ],
      "metadata": {
        "colab": {
          "base_uri": "https://localhost:8080/",
          "height": 87
        },
        "id": "6rJm9wOblBkV",
        "outputId": "c358b991-8050-41cc-dd00-7d31fb3522aa"
      },
      "execution_count": null,
      "outputs": [
        {
          "output_type": "execute_result",
          "data": {
            "text/plain": [
              "'\\nIn Python, encapsulation, which bundles data and methods within a class and restricts access to some members, is achieved through naming conventions: using a single underscore _ for protected members (accessible within the class and its subclasses) and a double underscore __ for private members (accessible only within the class). \\n'"
            ],
            "application/vnd.google.colaboratory.intrinsic+json": {
              "type": "string"
            }
          },
          "metadata": {},
          "execution_count": 9
        }
      ]
    },
    {
      "cell_type": "markdown",
      "source": [
        "9.What is a constructor in Python?\n",
        "  - In Python, a constructor, also known as the __init__ method, is a special method automatically called when a new object of a class is created, used to initialize the object's attributes."
      ],
      "metadata": {
        "id": "N_i0ElsFlQ0p"
      }
    },
    {
      "cell_type": "code",
      "source": [
        "#What is a constructor in Python?\n",
        "\"\"\"\n",
        "In Python, a constructor, also known as the __init__ method, is a special method automatically called when a new object of a class is created, used to initialize the object's attributes.\n",
        "\"\"\""
      ],
      "metadata": {
        "colab": {
          "base_uri": "https://localhost:8080/",
          "height": 52
        },
        "id": "0kMboLDSlQD8",
        "outputId": "288505eb-3927-4c5d-af9e-a883ed2385c3"
      },
      "execution_count": null,
      "outputs": [
        {
          "output_type": "execute_result",
          "data": {
            "text/plain": [
              "\"\\nIn Python, a constructor, also known as the __init__ method, is a special method automatically called when a new object of a class is created, used to initialize the object's attributes. \\n\""
            ],
            "application/vnd.google.colaboratory.intrinsic+json": {
              "type": "string"
            }
          },
          "metadata": {},
          "execution_count": 10
        }
      ]
    },
    {
      "cell_type": "markdown",
      "source": [
        "10.What are class and static methods in Python?\n",
        "  - In Python, class methods are bound to the class itself and receive the class as their first argument (cls), while static methods are bound to the class but don't receive any automatic arguments and are often used for utility functions."
      ],
      "metadata": {
        "id": "I1BmmJ3OlfDY"
      }
    },
    {
      "cell_type": "code",
      "source": [
        "#What are class and static methods in Python?\n",
        "\"\"\"\n",
        "In Python, class methods are bound to the class itself and receive the class as their first argument (cls), while static methods are bound to the class but don't receive any automatic arguments and are often used for utility functions\n",
        "\"\"\""
      ],
      "metadata": {
        "colab": {
          "base_uri": "https://localhost:8080/",
          "height": 70
        },
        "id": "anCNaewwlebz",
        "outputId": "00b3ef0b-3d10-49b1-a4c5-a7e8a9aef215"
      },
      "execution_count": null,
      "outputs": [
        {
          "output_type": "execute_result",
          "data": {
            "text/plain": [
              "\"\\nIn Python, class methods are bound to the class itself and receive the class as their first argument (cls), while static methods are bound to the class but don't receive any automatic arguments and are often used for utility functions\\n\""
            ],
            "application/vnd.google.colaboratory.intrinsic+json": {
              "type": "string"
            }
          },
          "metadata": {},
          "execution_count": 11
        }
      ]
    },
    {
      "cell_type": "markdown",
      "source": [
        "11.What is method overloading in Python?\n",
        "  - In Python, while the term \"method overloading\" is often used, it's important to understand that it doesn't function identically to languages like Java or C++. Python achieves similar flexibility through default arguments and variable-length arguments, allowing a single function to handle different inputs."
      ],
      "metadata": {
        "id": "ea8cc1dlltXv"
      }
    },
    {
      "cell_type": "code",
      "source": [
        "#What is method overloading in Python?\n",
        "\"\"\"\n",
        "In Python, while the term \"method overloading\" is often used, it's important to understand that it doesn't function identically to languages like Java or C++. Python achieves similar flexibility through default arguments and variable-length arguments, allowing a single function to handle different inputs.\n",
        "\"\"\""
      ],
      "metadata": {
        "colab": {
          "base_uri": "https://localhost:8080/",
          "height": 87
        },
        "id": "Vwj7Ep7plsxb",
        "outputId": "cbac31cd-b89d-4ce1-ee67-1817d1c05285"
      },
      "execution_count": null,
      "outputs": [
        {
          "output_type": "execute_result",
          "data": {
            "text/plain": [
              "'\\nIn Python, while the term \"method overloading\" is often used, it\\'s important to understand that it doesn\\'t function identically to languages like Java or C++. Python achieves similar flexibility through default arguments and variable-length arguments, allowing a single function to handle different inputs. \\n'"
            ],
            "application/vnd.google.colaboratory.intrinsic+json": {
              "type": "string"
            }
          },
          "metadata": {},
          "execution_count": 12
        }
      ]
    },
    {
      "cell_type": "markdown",
      "source": [
        "12.What is method overriding in OOP?\n",
        "  - In object-oriented programming (OOP), method overriding allows a subclass to provide a specific implementation for a method that is already defined in its superclass, enabling specialized behavior while maintaining the same method signature."
      ],
      "metadata": {
        "id": "ir2QK6mrl9bI"
      }
    },
    {
      "cell_type": "code",
      "source": [
        "#What is method overriding in OOP?\n",
        "\"\"\"\n",
        "In object-oriented programming (OOP), method overriding allows a subclass to provide a specific implementation for a method that is already defined in its superclass, enabling specialized behavior while maintaining the same method signature.\n",
        "\"\"\""
      ],
      "metadata": {
        "colab": {
          "base_uri": "https://localhost:8080/",
          "height": 70
        },
        "id": "qG9OZYZ1l84K",
        "outputId": "36057a52-e625-4cb0-f8ca-a6328b4608f5"
      },
      "execution_count": null,
      "outputs": [
        {
          "output_type": "execute_result",
          "data": {
            "text/plain": [
              "'\\nIn object-oriented programming (OOP), method overriding allows a subclass to provide a specific implementation for a method that is already defined in its superclass, enabling specialized behavior while maintaining the same method signature. \\n'"
            ],
            "application/vnd.google.colaboratory.intrinsic+json": {
              "type": "string"
            }
          },
          "metadata": {},
          "execution_count": 13
        }
      ]
    },
    {
      "cell_type": "markdown",
      "source": [
        "13.What is a property decorator in Python?\n",
        "  - The decorator is a built-in Python decorator that allows you to turn class methods into properties in a way that's both elegant and user-friendly."
      ],
      "metadata": {
        "id": "mo56tJq3mMYH"
      }
    },
    {
      "cell_type": "code",
      "source": [
        "#What is a property decorator in Python?\n",
        "\"\"\"\n",
        "The decorator is a built-in Python decorator that allows you to turn class methods into properties in a way that's both elegant and user-friendly.\n",
        "\"\"\""
      ],
      "metadata": {
        "colab": {
          "base_uri": "https://localhost:8080/",
          "height": 52
        },
        "id": "_l0p1OFvmLvq",
        "outputId": "5da37f44-4de5-4f5f-ff5c-01d59f410956"
      },
      "execution_count": null,
      "outputs": [
        {
          "output_type": "execute_result",
          "data": {
            "text/plain": [
              "\"\\nThe decorator is a built-in Python decorator that allows you to turn class methods into properties in a way that's both elegant and user-friendly.\\n\""
            ],
            "application/vnd.google.colaboratory.intrinsic+json": {
              "type": "string"
            }
          },
          "metadata": {},
          "execution_count": 14
        }
      ]
    },
    {
      "cell_type": "markdown",
      "source": [
        "14.Why is polymorphism important in OOP?\n",
        "  - Polymorphism is crucial in OOP because it enables code reusability, flexibility, and extensibility by allowing objects of different types to be treated uniformly through a common interface, promoting cleaner and more maintainable code."
      ],
      "metadata": {
        "id": "vYFZZ2q7mYmu"
      }
    },
    {
      "cell_type": "code",
      "source": [
        "#Why is polymorphism important in OOP?\n",
        "\"\"\"\n",
        "Polymorphism is crucial in OOP because it enables code reusability, flexibility, and extensibility by allowing objects of different types to be treated uniformly through a common interface, promoting cleaner and more maintainable code.\n",
        "\"\"\""
      ],
      "metadata": {
        "colab": {
          "base_uri": "https://localhost:8080/",
          "height": 70
        },
        "id": "mjIycWFNmXyp",
        "outputId": "e7ec92da-29f5-4538-e839-ae7341e75eda"
      },
      "execution_count": null,
      "outputs": [
        {
          "output_type": "execute_result",
          "data": {
            "text/plain": [
              "'\\nPolymorphism is crucial in OOP because it enables code reusability, flexibility, and extensibility by allowing objects of different types to be treated uniformly through a common interface, promoting cleaner and more maintainable code. \\n'"
            ],
            "application/vnd.google.colaboratory.intrinsic+json": {
              "type": "string"
            }
          },
          "metadata": {},
          "execution_count": 15
        }
      ]
    },
    {
      "cell_type": "markdown",
      "source": [
        "15.What is an abstract class in Python?\n",
        "  - In Python, an abstract class is a blueprint for other classes that cannot be instantiated directly, serving as a base for subclasses that must implement its abstract methods (methods without implementation) to be concrete."
      ],
      "metadata": {
        "id": "12UmFBlLmnV1"
      }
    },
    {
      "cell_type": "code",
      "source": [
        "#What is an abstract class in Python?\n",
        "\"\"\"\n",
        "In Python, an abstract class is a blueprint for other classes that cannot be instantiated directly, serving as a base for subclasses that must implement its abstract methods (methods without implementation) to be concrete.\n",
        "\"\"\""
      ],
      "metadata": {
        "colab": {
          "base_uri": "https://localhost:8080/",
          "height": 70
        },
        "id": "BVMqkTbbmmj5",
        "outputId": "16bd138b-e2a5-46f1-b512-4e3c2545c37b"
      },
      "execution_count": null,
      "outputs": [
        {
          "output_type": "execute_result",
          "data": {
            "text/plain": [
              "'\\nIn Python, an abstract class is a blueprint for other classes that cannot be instantiated directly, serving as a base for subclasses that must implement its abstract methods (methods without implementation) to be concrete. \\n'"
            ],
            "application/vnd.google.colaboratory.intrinsic+json": {
              "type": "string"
            }
          },
          "metadata": {},
          "execution_count": 17
        }
      ]
    },
    {
      "cell_type": "markdown",
      "source": [
        "16.What are the advantages of OOP?\n",
        "  - Object-Oriented Programming (OOP) offers advantages like improved code organization through encapsulation, reusability via inheritance, and flexibility with polymorphism, simplifying complex systems through abstraction, resulting in modular, maintainable, and scalable software solutions."
      ],
      "metadata": {
        "id": "yDXKeBUdm6Vt"
      }
    },
    {
      "cell_type": "code",
      "source": [
        "#What are the advantages of OOP?\n",
        "\"\"\"\n",
        "Object-Oriented Programming (OOP) offers advantages like improved code organization through encapsulation, reusability via inheritance, and flexibility with polymorphism, simplifying complex systems through abstraction, resulting in modular, maintainable, and scalable software solutions.\n",
        "\"\"\""
      ],
      "metadata": {
        "colab": {
          "base_uri": "https://localhost:8080/",
          "height": 87
        },
        "id": "EQc_hyrym3Ww",
        "outputId": "f5ddb22f-0f3f-4421-fcd6-9d535e5b9bf4"
      },
      "execution_count": null,
      "outputs": [
        {
          "output_type": "execute_result",
          "data": {
            "text/plain": [
              "'\\nObject-Oriented Programming (OOP) offers advantages like improved code organization through encapsulation, reusability via inheritance, and flexibility with polymorphism, simplifying complex systems through abstraction, resulting in modular, maintainable, and scalable software solutions. \\n'"
            ],
            "application/vnd.google.colaboratory.intrinsic+json": {
              "type": "string"
            }
          },
          "metadata": {},
          "execution_count": 18
        }
      ]
    },
    {
      "cell_type": "markdown",
      "source": [
        "17.What is the difference between a class variable and an instance variable?\n",
        "  - In object-oriented programming, a class variable is shared by all instances (objects) of a class, while an instance variable is unique to each instance"
      ],
      "metadata": {
        "id": "fVsI2f7CnKYc"
      }
    },
    {
      "cell_type": "code",
      "source": [
        "#What is the difference between a class variable and an instance variable?\n",
        "\"\"\"\n",
        "In object-oriented programming, a class variable is shared by all instances (objects) of a class, while an instance variable is unique to each instance\n",
        "\"\"\""
      ],
      "metadata": {
        "colab": {
          "base_uri": "https://localhost:8080/",
          "height": 52
        },
        "id": "LXBiejoUnJqA",
        "outputId": "549f82c4-970a-4345-810e-7a5b0e9f7523"
      },
      "execution_count": null,
      "outputs": [
        {
          "output_type": "execute_result",
          "data": {
            "text/plain": [
              "'\\nIn object-oriented programming, a class variable is shared by all instances (objects) of a class, while an instance variable is unique to each instance\\n'"
            ],
            "application/vnd.google.colaboratory.intrinsic+json": {
              "type": "string"
            }
          },
          "metadata": {},
          "execution_count": 19
        }
      ]
    },
    {
      "cell_type": "markdown",
      "source": [
        "18.What is multiple inheritance in Python?\n",
        "  - In Python, multiple inheritance allows a class (the child class) to inherit attributes and methods from multiple parent classes (base classes), enabling it to combine functionalities from different sources.\n",
        "Here's a breakdown:"
      ],
      "metadata": {
        "id": "wBOXgvagnVqs"
      }
    },
    {
      "cell_type": "code",
      "source": [
        "#What is multiple inheritance in Python?\n",
        "\"\"\"\n",
        "In Python, multiple inheritance allows a class (the child class) to inherit attributes and methods from multiple parent classes (base classes), enabling it to combine functionalities from different sources.\n",
        "Here's a breakdown:\n",
        "\"\"\""
      ],
      "metadata": {
        "colab": {
          "base_uri": "https://localhost:8080/",
          "height": 70
        },
        "id": "sZyAQTZfnVBH",
        "outputId": "9fb57511-d3da-44e4-d70c-c2ab18bfc2e0"
      },
      "execution_count": null,
      "outputs": [
        {
          "output_type": "execute_result",
          "data": {
            "text/plain": [
              "\"\\nIn Python, multiple inheritance allows a class (the child class) to inherit attributes and methods from multiple parent classes (base classes), enabling it to combine functionalities from different sources. \\nHere's a breakdown:\\n\""
            ],
            "application/vnd.google.colaboratory.intrinsic+json": {
              "type": "string"
            }
          },
          "metadata": {},
          "execution_count": 20
        }
      ]
    },
    {
      "cell_type": "markdown",
      "source": [
        "19. Explain the purpose of ‘’__str__’ and ‘__repr__’ ‘ methods in Python.\n",
        "  - In Python, __str__ provides a user-friendly, informal string representation of an object, while __repr__ offers a developer-focused, unambiguous, and often machine-readable representation, useful for debugging and object inspection."
      ],
      "metadata": {
        "id": "Q8Aj4P2InnsL"
      }
    },
    {
      "cell_type": "code",
      "source": [
        "# Explain the purpose of ‘’__str__’ and ‘__repr__’ ‘ methods in Python.\n",
        "\"\"\"\n",
        "In Python, __str__ provides a user-friendly, informal string representation of an object, while __repr__ offers a developer-focused, unambiguous, and often machine-readable representation, useful for debugging and object inspection.\n",
        "\"\"\""
      ],
      "metadata": {
        "colab": {
          "base_uri": "https://localhost:8080/",
          "height": 70
        },
        "id": "lQxT9cVWnm7e",
        "outputId": "1ddc2053-ad07-41d2-8d78-cb9de7ee4145"
      },
      "execution_count": null,
      "outputs": [
        {
          "output_type": "execute_result",
          "data": {
            "text/plain": [
              "'\\nIn Python, __str__ provides a user-friendly, informal string representation of an object, while __repr__ offers a developer-focused, unambiguous, and often machine-readable representation, useful for debugging and object inspection. \\n'"
            ],
            "application/vnd.google.colaboratory.intrinsic+json": {
              "type": "string"
            }
          },
          "metadata": {},
          "execution_count": 21
        }
      ]
    },
    {
      "cell_type": "markdown",
      "source": [
        "20.What is the significance of the ‘super()’ function in Python?\n",
        "  - In Python, the super() function is a built-in function that allows a subclass to access and invoke methods and attributes of its parent (or super) class, enabling code reuse and facilitating inheritance in object-oriented programming."
      ],
      "metadata": {
        "id": "T6duOZcxn3LL"
      }
    },
    {
      "cell_type": "code",
      "source": [
        "#What is the significance of the ‘super()’ function in Python?\n",
        "\"\"\"\n",
        "In Python, the super() function is a built-in function that allows a subclass to access and invoke methods and attributes of its parent (or super) class, enabling code reuse and facilitating inheritance in object-oriented programming.\n",
        "\"\"\""
      ],
      "metadata": {
        "colab": {
          "base_uri": "https://localhost:8080/",
          "height": 70
        },
        "id": "BRlJDQuvn2eO",
        "outputId": "0992b6f9-f49f-434b-a3e1-0ecf5aa7994a"
      },
      "execution_count": null,
      "outputs": [
        {
          "output_type": "execute_result",
          "data": {
            "text/plain": [
              "'\\nIn Python, the super() function is a built-in function that allows a subclass to access and invoke methods and attributes of its parent (or super) class, enabling code reuse and facilitating inheritance in object-oriented programming. \\n'"
            ],
            "application/vnd.google.colaboratory.intrinsic+json": {
              "type": "string"
            }
          },
          "metadata": {},
          "execution_count": 22
        }
      ]
    },
    {
      "cell_type": "markdown",
      "source": [
        "21.What is the significance of the __del__ method in Python?\n",
        "  - In Python, the __del__() method, also known as a destructor, is a special method automatically called by the garbage collector when an object is about to be destroyed, allowing for cleanup actions like releasing resources or closing connections before the object is removed from memory.\n"
      ],
      "metadata": {
        "id": "sOiYi22aoGHT"
      }
    },
    {
      "cell_type": "code",
      "source": [
        "#What is the significance of the __del__ method in Python?\n",
        "\"\"\"\n",
        "In Python, the __del__() method, also known as a destructor, is a special method automatically called by the garbage collector when an object is about to be destroyed, allowing for cleanup actions like releasing resources or closing connections before the object is removed from memory.\n",
        "\n",
        "\"\"\""
      ],
      "metadata": {
        "colab": {
          "base_uri": "https://localhost:8080/",
          "height": 87
        },
        "id": "jxloiiwdoFcd",
        "outputId": "498cca15-9056-4f4a-bb5b-2e8d9587a411"
      },
      "execution_count": null,
      "outputs": [
        {
          "output_type": "execute_result",
          "data": {
            "text/plain": [
              "'\\nIn Python, the __del__() method, also known as a destructor, is a special method automatically called by the garbage collector when an object is about to be destroyed, allowing for cleanup actions like releasing resources or closing connections before the object is removed from memory. \\n\\n'"
            ],
            "application/vnd.google.colaboratory.intrinsic+json": {
              "type": "string"
            }
          },
          "metadata": {},
          "execution_count": 23
        }
      ]
    },
    {
      "cell_type": "markdown",
      "source": [
        "22.What is the difference between @staticmethod and @classmethod in Python?\n",
        "  - In Python, @classmethod binds a method to the class itself, receiving the class (cls) as the first argument, while @staticmethod defines a method that is not bound to either the class or an instance, and doesn't receive any automatic arguments."
      ],
      "metadata": {
        "id": "yVs3Dr0soSha"
      }
    },
    {
      "cell_type": "code",
      "source": [
        "#What is the difference between @staticmethod and @classmethod in Python?\n",
        "\"\"\"\n",
        "In Python, @classmethod binds a method to the class itself, receiving the class (cls) as the first argument, while @staticmethod defines a method that is not bound to either the class or an instance, and doesn't receive any automatic arguments.\n",
        "\"\"\""
      ],
      "metadata": {
        "colab": {
          "base_uri": "https://localhost:8080/",
          "height": 70
        },
        "id": "d_sc8wQvoSRi",
        "outputId": "6f412e8f-c65d-4a74-ce4f-f0d9b2d944ad"
      },
      "execution_count": null,
      "outputs": [
        {
          "output_type": "execute_result",
          "data": {
            "text/plain": [
              "\"\\nIn Python, @classmethod binds a method to the class itself, receiving the class (cls) as the first argument, while @staticmethod defines a method that is not bound to either the class or an instance, and doesn't receive any automatic arguments. \\n\""
            ],
            "application/vnd.google.colaboratory.intrinsic+json": {
              "type": "string"
            }
          },
          "metadata": {},
          "execution_count": 24
        }
      ]
    },
    {
      "cell_type": "markdown",
      "source": [
        "23.How does polymorphism work in Python with inheritance?\n",
        "  - In Python, polymorphism with inheritance, often achieved through method overriding, allows child classes to implement their own versions of parent class methods, enabling different objects to respond to the same method call in distinct ways."
      ],
      "metadata": {
        "id": "5nsOCkTaogix"
      }
    },
    {
      "cell_type": "code",
      "source": [
        "#How does polymorphism work in Python with inheritance?\n",
        "\"\"\"\n",
        "In Python, polymorphism with inheritance, often achieved through method overriding, allows child classes to implement their own versions of parent class methods, enabling different objects to respond to the same method call in distinct ways.\n",
        "\"\"\""
      ],
      "metadata": {
        "colab": {
          "base_uri": "https://localhost:8080/",
          "height": 70
        },
        "id": "Q_JO3vTooRyl",
        "outputId": "c58419ca-2a68-47b7-bf99-8491c2b41849"
      },
      "execution_count": null,
      "outputs": [
        {
          "output_type": "execute_result",
          "data": {
            "text/plain": [
              "'\\nIn Python, polymorphism with inheritance, often achieved through method overriding, allows child classes to implement their own versions of parent class methods, enabling different objects to respond to the same method call in distinct ways. \\n'"
            ],
            "application/vnd.google.colaboratory.intrinsic+json": {
              "type": "string"
            }
          },
          "metadata": {},
          "execution_count": 25
        }
      ]
    },
    {
      "cell_type": "markdown",
      "source": [
        "24.What is method chaining in Python OOP?\n",
        "  - In Python's object-oriented programming, method chaining allows you to call multiple methods on the same object in a single line, by having each method return the object itself (or a derived version of it). This makes the code more concise and readable."
      ],
      "metadata": {
        "id": "_kD_YYQPosSB"
      }
    },
    {
      "cell_type": "code",
      "source": [
        "#What is method chaining in Python OOP?\n",
        "\"\"\"\n",
        "In Python's object-oriented programming, method chaining allows you to call multiple methods on the same object in a single line, by having each method return the object itself (or a derived version of it). This makes the code more concise and readable.\n",
        "\"\"\""
      ],
      "metadata": {
        "colab": {
          "base_uri": "https://localhost:8080/",
          "height": 70
        },
        "id": "XHCnxSQqorvU",
        "outputId": "5fa0b1b3-1507-4b0c-c000-52ae1d524688"
      },
      "execution_count": null,
      "outputs": [
        {
          "output_type": "execute_result",
          "data": {
            "text/plain": [
              "\"\\nIn Python's object-oriented programming, method chaining allows you to call multiple methods on the same object in a single line, by having each method return the object itself (or a derived version of it). This makes the code more concise and readable. \\n\""
            ],
            "application/vnd.google.colaboratory.intrinsic+json": {
              "type": "string"
            }
          },
          "metadata": {},
          "execution_count": 26
        }
      ]
    },
    {
      "cell_type": "markdown",
      "source": [
        "25.What is the purpose of the __call__ method in Python?\n",
        "  - The __call__ method in Python allows you to make instances of a class callable, meaning you can use them like functions (e.g., my_object(arg1, arg2)), by defining what happens when the instance is called."
      ],
      "metadata": {
        "id": "mym_k9_Zo4-Y"
      }
    },
    {
      "cell_type": "code",
      "source": [
        "#What is the purpose of the __call__ method in Python?\n",
        "\"\"\"\n",
        "The __call__ method in Python allows you to make instances of a class callable, meaning you can use them like functions (e.g., my_object(arg1, arg2)), by defining what happens when the instance is called.\n",
        "\"\"\""
      ],
      "metadata": {
        "id": "Nisqgc_-o4Db",
        "colab": {
          "base_uri": "https://localhost:8080/",
          "height": 54
        },
        "outputId": "c7fa4de5-e69f-4236-97fc-a973d6e9f6ba"
      },
      "execution_count": 27,
      "outputs": [
        {
          "output_type": "execute_result",
          "data": {
            "text/plain": [
              "'\\nThe __call__ method in Python allows you to make instances of a class callable, meaning you can use them like functions (e.g., my_object(arg1, arg2)), by defining what happens when the instance is called. \\n'"
            ],
            "application/vnd.google.colaboratory.intrinsic+json": {
              "type": "string"
            }
          },
          "metadata": {},
          "execution_count": 27
        }
      ]
    },
    {
      "cell_type": "markdown",
      "source": [
        "#OOPS Assignment(Practical)"
      ],
      "metadata": {
        "id": "dKasAG8Epi0n"
      }
    },
    {
      "cell_type": "markdown",
      "source": [
        "1.. Create a parent class Animal with a method speak() that prints a generic message. Create a child class Dog\n",
        "that overrides the speak() method to print \"Bark!\"."
      ],
      "metadata": {
        "id": "Sr6XpkAPpq-2"
      }
    },
    {
      "cell_type": "code",
      "source": [
        "#code\n",
        "class Animal:\n",
        "    def speak(self):\n",
        "        print(\"This animal makes a sound.\")\n",
        "\n",
        "class Dog(Animal):\n",
        "    def speak(self):\n",
        "        print(\"bark\")\n",
        "\n",
        "dog = Dog()\n",
        "dog.speak()"
      ],
      "metadata": {
        "colab": {
          "base_uri": "https://localhost:8080/"
        },
        "id": "5qVdk-GfpfRE",
        "outputId": "c88d5083-9593-4d48-c63b-d0e90d78039d"
      },
      "execution_count": 28,
      "outputs": [
        {
          "output_type": "stream",
          "name": "stdout",
          "text": [
            "bark\n"
          ]
        }
      ]
    },
    {
      "cell_type": "markdown",
      "source": [
        "2. Write a program to create an abstract class Shape with a method area(). Derive classes Circle and Rectangle\n",
        "from it and implement the area() method in both."
      ],
      "metadata": {
        "id": "me6zFTF7p51m"
      }
    },
    {
      "cell_type": "code",
      "source": [
        "#code\n",
        "from abc import ABC, abstractmethod\n",
        "class Shape(ABC):\n",
        "    @abstractmethod\n",
        "    def area(self):\n",
        "        pass\n",
        "class Circle(Shape):\n",
        "    def __init__(self):\n",
        "        self.radius = float(input(\"Enter the Radius :\"))\n",
        "    def area(self):\n",
        "        return 3.1415 * self.radius * self.radius\n",
        "class Rectangle(Shape):\n",
        "    def __init__(self):\n",
        "        self.length = float(input(\"Enter the Length :\"))\n",
        "        self.width = float(input(\"Enter the Width :\"))\n",
        "    def area(self):\n",
        "        return self.length * self.width\n",
        "cir = Circle()\n",
        "rect = Rectangle()\n",
        "print(\"Area of Circle :\", cir.area())\n",
        "print(\"Area of Rectangle :\", rect.area())"
      ],
      "metadata": {
        "colab": {
          "base_uri": "https://localhost:8080/"
        },
        "id": "eArJ0G98p5ED",
        "outputId": "0c2c4359-91e9-4c08-d181-edd782502975"
      },
      "execution_count": 30,
      "outputs": [
        {
          "output_type": "stream",
          "name": "stdout",
          "text": [
            "Enter the Radius :8\n",
            "Enter the Length :5\n",
            "Enter the Width :5\n",
            "Area of Circle : 201.056\n",
            "Area of Rectangle : 25.0\n"
          ]
        }
      ]
    },
    {
      "cell_type": "markdown",
      "source": [
        "3.. Implement a multi-level inheritance scenario where a class Vehicle has an attribute type. Derive a class Car\n",
        "and further derive a class ElectricCar that adds a battery attribute."
      ],
      "metadata": {
        "id": "ZhDL-7beqOWV"
      }
    },
    {
      "cell_type": "code",
      "source": [
        "class Vehicle:\n",
        "    def __init__(self, make, model): #code\n",
        "          self.make = make\n",
        "          self.model = model\n",
        "    def display_info(self):\n",
        "          print(f\"Make: {self.make}, Model: {self.model}\")\n",
        "class ElectricDevice:\n",
        "    def __init__(self, battery_capacity):\n",
        "          self.battery_capacity = battery_capacity\n",
        "    def display_battery_capacity(self):\n",
        "          print(f\"Battery Capacity: {self.battery_capacity} kWh\")\n",
        "class ElectricCar(Vehicle, ElectricDevice):\n",
        "    def __init__(self, make, model, battery_capacity):\n",
        "          Vehicle.__init__(self, make, model)\n",
        "          ElectricDevice.__init__(self, battery_capacity)\n",
        "    def display_info(self):\n",
        "          super().display_info()\n",
        "          self.display_battery_capacity()\n",
        "my_electric_car = ElectricCar(\"Tesla\", \"Model S\",  200)\n",
        "my_electric_car.display_info()"
      ],
      "metadata": {
        "colab": {
          "base_uri": "https://localhost:8080/"
        },
        "id": "Qh0Y8AtdqHog",
        "outputId": "25418059-1f98-46da-8194-dbe2146a0db3"
      },
      "execution_count": 31,
      "outputs": [
        {
          "output_type": "stream",
          "name": "stdout",
          "text": [
            "Make: Tesla, Model: Model S\n",
            "Battery Capacity: 200 kWh\n"
          ]
        }
      ]
    },
    {
      "cell_type": "markdown",
      "source": [
        "4.Demonstrate polymorphism by creating a base class Bird with a method fly(). Create two derived classes\n",
        "Sparrow and Penguin that override the fly() method.\n"
      ],
      "metadata": {
        "id": "Clws-YIoqYus"
      }
    },
    {
      "cell_type": "code",
      "source": [
        "#code\n",
        "class Bird:\n",
        "    def fly(self):\n",
        "        print(\"I am a bird, I can fly.\")\n",
        "\n",
        "class Sparrow(Bird):\n",
        "    def fly(self):\n",
        "        print(\"I am a sparrow, I fly high in the sky.\")\n",
        "\n",
        "class Penguin(Bird):\n",
        "    def fly(self):\n",
        "        print(\"I am a penguin, I cannot fly, but I can swim.\")\n",
        "\n",
        "bird = Bird()\n",
        "sparrow = Sparrow()\n",
        "penguin = Penguin()\n",
        "bird.fly()\n",
        "sparrow.fly()\n",
        "penguin.fly()"
      ],
      "metadata": {
        "colab": {
          "base_uri": "https://localhost:8080/"
        },
        "id": "5Xr198laqeNI",
        "outputId": "8e903f7d-22b4-4a7d-a4f5-a5ebb2388ad4"
      },
      "execution_count": 34,
      "outputs": [
        {
          "output_type": "stream",
          "name": "stdout",
          "text": [
            "I am a bird, I can fly.\n",
            "I am a sparrow, I fly high in the sky.\n",
            "I am a penguin, I cannot fly, but I can swim.\n"
          ]
        }
      ]
    },
    {
      "cell_type": "markdown",
      "source": [
        "5. Write a program to demonstrate encapsulation by creating a class BankAccount with private attributes\n",
        "balance and methods to deposit, withdraw, and check balance."
      ],
      "metadata": {
        "id": "BJ_itrjzqyvE"
      }
    },
    {
      "cell_type": "code",
      "source": [
        "class BankAccount:\n",
        "    def __init__(self, initial_balance=0):\n",
        "        self.__balance = initial_balance  #code\n",
        "    def deposit(self, amount):\n",
        "        if amount > 0:\n",
        "            self.__balance += amount\n",
        "            print(f\"Deposited: ${amount}\")\n",
        "        else:\n",
        "            print(\"Invalid deposit amount.\")\n",
        "    def withdraw(self, amount):\n",
        "        if 0 < amount <= self.__balance:\n",
        "            self.__balance -= amount\n",
        "            print(f\"Withdrew: ${amount}\")\n",
        "    def check_balance(self):\n",
        "        print(f\"Current balance: ${self.__balance}\")\n",
        "account = BankAccount(1000)\n",
        "account.check_balance()\n",
        "account.deposit(500)\n",
        "account.withdraw(200)\n",
        "account.check_balance()\n",
        "account.withdraw(2000)"
      ],
      "metadata": {
        "colab": {
          "base_uri": "https://localhost:8080/"
        },
        "id": "LwyFMgstqtIn",
        "outputId": "12792308-ebcb-4e41-a8f0-461e90f57d42"
      },
      "execution_count": 35,
      "outputs": [
        {
          "output_type": "stream",
          "name": "stdout",
          "text": [
            "Current balance: $1000\n",
            "Deposited: $500\n",
            "Withdrew: $200\n",
            "Current balance: $1300\n"
          ]
        }
      ]
    },
    {
      "cell_type": "markdown",
      "source": [
        "6. Demonstrate runtime polymorphism using a method play() in a base class Instrument. Derive classes Guitar\n",
        "and Piano that implement their own version of play()."
      ],
      "metadata": {
        "id": "DOVxaQS4q8HL"
      }
    },
    {
      "cell_type": "code",
      "source": [
        "#code\n",
        "class Instrument:\n",
        "    def play(self):\n",
        "        print(\"Playing an instrument\")\n",
        "\n",
        "class Guitar(Instrument):\n",
        "    def play(self):\n",
        "        print(\"Playing a guitar\")\n",
        "\n",
        "class Piano(Instrument):\n",
        "    def play(self):\n",
        "        print(\"Playing a piano\")\n",
        "\n",
        "\n",
        "instrument = Instrument()\n",
        "guitar = Guitar()\n",
        "piano = Piano()\n",
        "\n",
        "instrument.play()\n",
        "guitar.play()\n",
        "piano.play()\n",
        "\n",
        "instruments = [instrument, guitar, piano]\n",
        "for inst in instruments:\n",
        "    inst.play()"
      ],
      "metadata": {
        "colab": {
          "base_uri": "https://localhost:8080/"
        },
        "id": "ErgKWHYLrCXX",
        "outputId": "c026cdb8-8db0-43cc-929a-cac6ed536e4c"
      },
      "execution_count": 37,
      "outputs": [
        {
          "output_type": "stream",
          "name": "stdout",
          "text": [
            "Playing an instrument\n",
            "Playing a guitar\n",
            "Playing a piano\n",
            "Playing an instrument\n",
            "Playing a guitar\n",
            "Playing a piano\n"
          ]
        }
      ]
    },
    {
      "cell_type": "markdown",
      "source": [
        "7.Create a class MathOperations with a class method add_numbers() to add two numbers and a static\n",
        "method subtract_numbers() to subtract two numbers."
      ],
      "metadata": {
        "id": "MVEk5T63rTYK"
      }
    },
    {
      "cell_type": "code",
      "source": [
        "#code\n",
        "a = int(input(\"Enter first number: \"))\n",
        "b = int( input(\"Enter second number: \"))\n",
        "Sum = a+b;\n",
        "Difference = a-b;\n",
        "print(\"Addition of two numbers = \",Sum)\n",
        "print(\"Subtraction of two numbers = \",Difference)"
      ],
      "metadata": {
        "colab": {
          "base_uri": "https://localhost:8080/"
        },
        "id": "tJOS-wMFrSfW",
        "outputId": "b3f667b5-a0cd-459d-9562-cf0204b3bde1"
      },
      "execution_count": 38,
      "outputs": [
        {
          "output_type": "stream",
          "name": "stdout",
          "text": [
            "Enter first number: 80\n",
            "Enter second number: 70\n",
            "Addition of two numbers =  150\n",
            "Subtraction of two numbers =  10\n"
          ]
        }
      ]
    },
    {
      "cell_type": "markdown",
      "source": [
        "8. Implement a class Person with a class method to count the total number of persons created."
      ],
      "metadata": {
        "id": "hgZaTeS2rcXS"
      }
    },
    {
      "cell_type": "code",
      "source": [
        "#code\n",
        "class geeks:\n",
        "\tcounter = 0\n",
        "\tdef __init__(self):\n",
        "\t\tgeeks.counter += 1\n",
        "g1 = geeks()\n",
        "g2 = geeks()\n",
        "g3 = geeks()\n",
        "print(geeks.counter)"
      ],
      "metadata": {
        "colab": {
          "base_uri": "https://localhost:8080/"
        },
        "id": "UZuIK0_draFd",
        "outputId": "cb1531bf-e962-4567-a224-a58832065b0d"
      },
      "execution_count": 39,
      "outputs": [
        {
          "output_type": "stream",
          "name": "stdout",
          "text": [
            "3\n"
          ]
        }
      ]
    },
    {
      "cell_type": "markdown",
      "source": [
        "9. Write a class Fraction with attributes numerator and denominator. Override the str method to display the\n",
        "fraction as \"numerator/denominator\"."
      ],
      "metadata": {
        "id": "FH-CzhEkrkHh"
      }
    },
    {
      "cell_type": "code",
      "source": [
        "#code\n",
        "from fractions import Fraction\n",
        "print (Fraction(11, 35))\n",
        "print (Fraction(10, 18))\n",
        "print (Fraction())"
      ],
      "metadata": {
        "colab": {
          "base_uri": "https://localhost:8080/"
        },
        "id": "zEq629O0rjNt",
        "outputId": "a8b0c019-ef35-4035-ac0a-4b9abde3f0e2"
      },
      "execution_count": 40,
      "outputs": [
        {
          "output_type": "stream",
          "name": "stdout",
          "text": [
            "11/35\n",
            "5/9\n",
            "0\n"
          ]
        }
      ]
    },
    {
      "cell_type": "markdown",
      "source": [
        "10. Demonstrate operator overloading by creating a class Vector and overriding the add method to add two\n",
        "vectors."
      ],
      "metadata": {
        "id": "12wuk_cIrwmh"
      }
    },
    {
      "cell_type": "code",
      "source": [
        "class Vector:\n",
        "    def __init__(self, x, y):\n",
        "        self.x = x\n",
        "        self.y = y\n",
        "    def __add__(self, other):\n",
        "        return Vector(self.x + other.x, self.y + other.y)\n",
        "    def __repr__(self):\n",
        "        return f\"Vector({self.x}, {self.y})\"\n",
        "v1 = Vector(1, 2)\n",
        "v2 = Vector(3, 4)\n",
        "v3 = v1 + v2  #code\n",
        "print(v3)"
      ],
      "metadata": {
        "colab": {
          "base_uri": "https://localhost:8080/"
        },
        "id": "nojGJO0prqsN",
        "outputId": "42ed2e89-4367-4c03-a193-e194fde87890"
      },
      "execution_count": 41,
      "outputs": [
        {
          "output_type": "stream",
          "name": "stdout",
          "text": [
            "Vector(4, 6)\n"
          ]
        }
      ]
    },
    {
      "cell_type": "markdown",
      "source": [
        "11. Create a class Person with attributes name and age. Add a method greet() that prints \"Hello, my name is\n",
        "{name} and I am {age} years old.\""
      ],
      "metadata": {
        "id": "c1c5_rwor3Jx"
      }
    },
    {
      "cell_type": "code",
      "source": [
        "#code\n",
        "class Person:\n",
        "  def __init__(self, name, age):\n",
        "    self.name = name\n",
        "    self.age = age\n",
        "\n",
        "p1 = Person(\"souvik\", 18)\n",
        "\n",
        "print(p1.name)\n",
        "print(p1.age)"
      ],
      "metadata": {
        "colab": {
          "base_uri": "https://localhost:8080/"
        },
        "id": "AF9Xs6oDr2Ps",
        "outputId": "c8a51fd3-0220-4e69-8ebe-a07a7cf7360a"
      },
      "execution_count": 42,
      "outputs": [
        {
          "output_type": "stream",
          "name": "stdout",
          "text": [
            "souvik\n",
            "18\n"
          ]
        }
      ]
    },
    {
      "cell_type": "markdown",
      "source": [
        "12. Implement a class Student with attributes name and grades. Create a method average_grade() to compute\n",
        "the average of the grades."
      ],
      "metadata": {
        "id": "lnzC8tfjr8t5"
      }
    },
    {
      "cell_type": "code",
      "source": [
        "#code\n",
        "print(\"Enter Marks Obtained in 5 Subjects: \")\n",
        "total1 = 44\n",
        "total2 = 67\n",
        "total3 = 76\n",
        "total4 = 99\n",
        "total5 = 58\n",
        "tot = total1 + total2 + total3 + total4 + total4\n",
        "avg = tot / 5\n",
        "if avg >= 91 and avg <= 100:\n",
        "\tprint(\"Your Grade is A1\")\n",
        "elif avg >= 81 and avg < 91:\n",
        "\tprint(\"Your Grade is A2\")\n",
        "elif avg >= 71 and avg < 81:\n",
        "\tprint(\"Your Grade is B1\")\n",
        "elif avg >= 61 and avg < 71:\n",
        "\tprint(\"Your Grade is B2\")\n",
        "elif avg >= 51 and avg < 61:\n",
        "\tprint(\"Your Grade is C1\")\n",
        "elif avg >= 41 and avg < 51:\n",
        "\tprint(\"Your Grade is C2\")\n",
        "elif avg >= 33 and avg < 41:\n",
        "\tprint(\"Your Grade is D\")\n",
        "elif avg >= 21 and avg < 33:\n",
        "\tprint(\"Your Grade is E1\")\n",
        "elif avg >= 0 and avg < 21:\n",
        "\tprint(\"Your Grade is E2\")"
      ],
      "metadata": {
        "colab": {
          "base_uri": "https://localhost:8080/"
        },
        "id": "AGWqyTFwr8Bs",
        "outputId": "6a8f4c01-9bbb-4e54-a745-28908e2d564e"
      },
      "execution_count": 43,
      "outputs": [
        {
          "output_type": "stream",
          "name": "stdout",
          "text": [
            "Enter Marks Obtained in 5 Subjects: \n",
            "Your Grade is B1\n"
          ]
        }
      ]
    },
    {
      "cell_type": "markdown",
      "source": [
        "13. Create a class Rectangle with methods set_dimensions() to set the dimensions and area() to calculate the\n",
        "area."
      ],
      "metadata": {
        "id": "R0TVzBIUsFgx"
      }
    },
    {
      "cell_type": "code",
      "source": [
        "#code\n",
        "class rectangle():\n",
        "    def __init__(self,breadth,length):\n",
        "        self.breadth=breadth\n",
        "        self.length=length\n",
        "    def area(self):\n",
        "        return self.breadth*self.length\n",
        "a=int(input(\"Enter length of rectangle: \"))\n",
        "b=int(input(\"Enter breadth of rectangle: \"))\n",
        "obj=rectangle(a,b)\n",
        "print(\"Area of rectangle:\",obj.area())\n",
        "print()"
      ],
      "metadata": {
        "colab": {
          "base_uri": "https://localhost:8080/"
        },
        "id": "a6FDhGZ_sEuE",
        "outputId": "23b9004c-5dfc-487c-8aa9-73bb4da7953e"
      },
      "execution_count": 44,
      "outputs": [
        {
          "output_type": "stream",
          "name": "stdout",
          "text": [
            "Enter length of rectangle: 8\n",
            "Enter breadth of rectangle: 5\n",
            "Area of rectangle: 40\n",
            "\n"
          ]
        }
      ]
    },
    {
      "cell_type": "markdown",
      "source": [
        "14. Create a class Employee with a method calculate_salary() that computes the salary."
      ],
      "metadata": {
        "id": "ZlJwLIuHsTIY"
      }
    },
    {
      "cell_type": "code",
      "source": [
        "#code\n",
        "hours_worked = float(input(\"Enter hours worked: \"))\n",
        "hourly_rate = float(input(\"Enter hourly rate (in $): \"))\n",
        "if hours_worked > 40:\n",
        "    regular_pay = 40 * hourly_rate\n",
        "    overtime_hours = hours_worked - 40\n",
        "    overtime_pay = overtime_hours * (hourly_rate * 1.5)\n",
        "    total_pay = regular_pay + overtime_pay\n",
        "else:\n",
        "    total_pay = hours_worked * hourly_rate\n",
        "print(f\"Pay: ${total_pay:.2f}\")"
      ],
      "metadata": {
        "colab": {
          "base_uri": "https://localhost:8080/"
        },
        "id": "0YdptSDFsRXj",
        "outputId": "eda77d35-e995-4928-bf2b-d1e21e8106bf"
      },
      "execution_count": 45,
      "outputs": [
        {
          "output_type": "stream",
          "name": "stdout",
          "text": [
            "Enter hours worked: 8\n",
            "Enter hourly rate (in $): 10\n",
            "Pay: $80.00\n"
          ]
        }
      ]
    },
    {
      "cell_type": "markdown",
      "source": [
        "15. Create a class Product with attributes name, price, and quantity. Implement a method total_price() that\n",
        "calculates the total price of the product."
      ],
      "metadata": {
        "id": "laDv_0twsdyf"
      }
    },
    {
      "cell_type": "code",
      "source": [
        "#code\n",
        "class Item:\n",
        "    def __init__(self, name, quantity, price):\n",
        "        self.name = name\n",
        "        self.quantity = quantity\n",
        "        self.price = price\n",
        "    def calculate_total(self):\n",
        "        return self.quantity * self.price\n",
        "items = [\n",
        "    Item(\"Laptop\", 2, 1200),\n",
        "    Item(\"Mouse\", 5, 25),\n",
        "    Item(\"Keyboard\", 1, 75)\n",
        "]\n",
        "total_price = 0\n",
        "for item in items:\n",
        "    total_price += item.calculate_total()\n",
        "\n",
        "print(f\"Total price: ${total_price}\")"
      ],
      "metadata": {
        "colab": {
          "base_uri": "https://localhost:8080/"
        },
        "id": "TynY8hxssbtL",
        "outputId": "c67ae62c-427b-4125-dd6a-18b2629d68f7"
      },
      "execution_count": 46,
      "outputs": [
        {
          "output_type": "stream",
          "name": "stdout",
          "text": [
            "Total price: $2600\n"
          ]
        }
      ]
    },
    {
      "cell_type": "markdown",
      "source": [
        "16. Create a class Animal with an abstract method sound(). Create two derived classes Cow and Sheep that\n",
        "implement the sound() method."
      ],
      "metadata": {
        "id": "rbKsyKFJslb4"
      }
    },
    {
      "cell_type": "code",
      "source": [
        "#code\n",
        "from abc import ABC, abstractmethod\n",
        "class Animal(ABC):\n",
        "    @abstractmethod\n",
        "    def sound(self):\n",
        "        pass\n",
        "class Cow(Animal):\n",
        "    def sound(self):\n",
        "        return \"Moo!\"\n",
        "class Sheep(Animal):\n",
        "    def sound(self):\n",
        "        return \"Baa!\"\n",
        "cow = Cow()\n",
        "sheep = Sheep()\n",
        "print(f\"A cow says: {cow.sound()}\")\n",
        "print(f\"A sheep says: {sheep.sound()}\")"
      ],
      "metadata": {
        "colab": {
          "base_uri": "https://localhost:8080/"
        },
        "id": "1RA4bK7PskUC",
        "outputId": "d5bbd944-c480-4ed6-92d8-23f1f8cc092e"
      },
      "execution_count": 47,
      "outputs": [
        {
          "output_type": "stream",
          "name": "stdout",
          "text": [
            "A cow says: Moo!\n",
            "A sheep says: Baa!\n"
          ]
        }
      ]
    },
    {
      "cell_type": "markdown",
      "source": [
        "17. Create a class Book with attributes title, author, and year_published. Add a method get_book_info() that\n",
        "returns a formatted string with the book's details."
      ],
      "metadata": {
        "id": "pO8KchEwsr_n"
      }
    },
    {
      "cell_type": "code",
      "source": [
        "#code\n",
        "class Book:\n",
        "    def __init__(self, title, author, genre, year_published):\n",
        "        self.title = title\n",
        "        self.author = author\n",
        "        self.genre = genre\n",
        "        self.year_published = year_published\n",
        "    def display_book_info(self):\n",
        "        print(f\"Title: {self.title}\")\n",
        "        print(f\"Author: {self.author}\")\n",
        "        print(f\"Genre: {self.genre}\")\n",
        "        print(f\"Year Published: {self.year_published}\")\n",
        "my_book = Book(\"To Kill a Mockingbird\", \"Harper Lee\", \"Fiction\", 1960)\n",
        "my_book.display_book_info()"
      ],
      "metadata": {
        "colab": {
          "base_uri": "https://localhost:8080/"
        },
        "id": "SXTC79m2srOS",
        "outputId": "aa350498-9b9f-4b82-e24b-926b82943c23"
      },
      "execution_count": 48,
      "outputs": [
        {
          "output_type": "stream",
          "name": "stdout",
          "text": [
            "Title: To Kill a Mockingbird\n",
            "Author: Harper Lee\n",
            "Genre: Fiction\n",
            "Year Published: 1960\n"
          ]
        }
      ]
    },
    {
      "cell_type": "markdown",
      "source": [
        "18.Create a class House with attributes address and price. Create a derived class Mansion that adds an\n",
        "attribute number_of_rooms."
      ],
      "metadata": {
        "id": "TlBKUz3mszYv"
      }
    },
    {
      "cell_type": "code",
      "source": [
        "#code\n",
        "class House:\n",
        "    def __init__(self, address, price, sqft):\n",
        "        self.address = address\n",
        "        self.price = price\n",
        "        self.sqft = sqft\n",
        "    def calculate_number_of_rooms(self):\n",
        "        return round(self.sqft / 100)\n",
        "house1 = House(\"123 Main St\", 200000, 1500)\n",
        "num_rooms = house1.calculate_number_of_rooms()\n",
        "print(f\"The house at {house1.address} has approximately {num_rooms} rooms.\")"
      ],
      "metadata": {
        "colab": {
          "base_uri": "https://localhost:8080/"
        },
        "id": "fZo5MHUWsylq",
        "outputId": "c622a3ba-7ab8-4944-fe27-a08ecd9a707a"
      },
      "execution_count": 49,
      "outputs": [
        {
          "output_type": "stream",
          "name": "stdout",
          "text": [
            "The house at 123 Main St has approximately 15 rooms.\n"
          ]
        }
      ]
    },
    {
      "cell_type": "code",
      "source": [],
      "metadata": {
        "id": "RHWP0JrHs5NS"
      },
      "execution_count": null,
      "outputs": []
    }
  ]
}